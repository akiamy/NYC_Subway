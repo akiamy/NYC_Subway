{
  "nbformat": 4,
  "nbformat_minor": 0,
  "metadata": {
    "colab": {
      "provenance": []
    },
    "kernelspec": {
      "name": "python3",
      "display_name": "Python 3"
    },
    "language_info": {
      "name": "python"
    }
  },
  "cells": [
    {
      "cell_type": "code",
      "source": [
        "from google.colab import drive\n",
        "drive.mount('/content/drive')"
      ],
      "metadata": {
        "colab": {
          "base_uri": "https://localhost:8080/"
        },
        "id": "2uU4z0czdNKV",
        "outputId": "f33c072e-cf85-4931-850e-f7c5e93b15b8"
      },
      "execution_count": 1,
      "outputs": [
        {
          "output_type": "stream",
          "name": "stdout",
          "text": [
            "Mounted at /content/drive\n"
          ]
        }
      ]
    },
    {
      "cell_type": "code",
      "source": [
        "# Required libraries\n",
        "import os\n",
        "import pandas as pd\n",
        "from datetime import datetime\n",
        "import requests\n",
        "from tqdm import tqdm\n",
        "\n",
        "# URLs of the CSVs from GitHub\n",
        "def get_csv_urls_from_github():\n",
        "    api_url = 'https://api.github.com/repos/GMasso19/NYC_Subway/contents/raw_data'\n",
        "    response = requests.get(api_url)\n",
        "    if response.status_code == 200:\n",
        "        contents = response.json()\n",
        "        return [file['download_url'] for file in contents if file['name'].endswith('.csv')]\n",
        "    else:\n",
        "        print(f\"Error fetching CSV URLs: {response.status_code}\")\n",
        "        return []\n",
        "\n",
        "# Load and combine all data (without weather)\n",
        "def load_all_data(csv_urls):\n",
        "    data = []\n",
        "    for url in tqdm(csv_urls, desc=\"Processing CSV files\"):\n",
        "        try:\n",
        "            df = pd.read_csv(url)\n",
        "            df['transit_timestamp'] = pd.to_datetime(df['transit_timestamp'])\n",
        "            df['date'] = df['transit_timestamp'].dt.date\n",
        "            # Filter only subway and Manhattan\n",
        "            df = df[(df['transit_mode'] == 'subway') & (df['borough'] == 'Manhattan')]\n",
        "            # Drop the now-redundant columns\n",
        "            df = df.drop(columns=['transit_mode', 'borough'])\n",
        "            data.append(df)\n",
        "        except Exception as e:\n",
        "            print(\"Error in:\", url, str(e))\n",
        "    return pd.concat(data, ignore_index=True)\n",
        "\n",
        "\n",
        "csv_urls = get_csv_urls_from_github()\n",
        "combined_data = load_all_data(csv_urls)\n",
        "print(\"Combined CSVs preview (no weather):\")\n",
        "print(combined_data.head())"
      ],
      "metadata": {
        "colab": {
          "base_uri": "https://localhost:8080/"
        },
        "id": "jh3PRkRld6OP",
        "outputId": "872f2d65-93a4-44a0-a4d7-5f8163113346"
      },
      "execution_count": 2,
      "outputs": [
        {
          "output_type": "stream",
          "name": "stderr",
          "text": [
            "Processing CSV files: 100%|██████████| 818/818 [15:00<00:00,  1.10s/it]\n"
          ]
        },
        {
          "output_type": "stream",
          "name": "stdout",
          "text": [
            "Combined CSVs preview (no weather):\n",
            "    transit_timestamp station_complex_id                   station_complex  \\\n",
            "0 2021-09-23 03:00:00                316                         50 St (1)   \n",
            "1 2022-07-22 19:00:00                323    Christopher St-Sheridan Sq (1)   \n",
            "2 2022-07-22 19:00:00                323    Christopher St-Sheridan Sq (1)   \n",
            "3 2021-09-23 12:00:00                403                         33 St (6)   \n",
            "4 2021-09-23 07:00:00                602  14 St-Union Sq (L,N,Q,R,W,4,5,6)   \n",
            "\n",
            "  payment_method               fare_class_category  ridership  transfers  \\\n",
            "0      metrocard       Metrocard - Unlimited 7-Day        8.0        0.0   \n",
            "1      metrocard             Metrocard - Full Fare      111.0        1.0   \n",
            "2      metrocard                 Metrocard - Other        9.0        0.0   \n",
            "3      metrocard             Metrocard - Full Fare      193.0        8.0   \n",
            "4      metrocard  Metrocard - Seniors & Disability       35.0       10.0   \n",
            "\n",
            "         date  \n",
            "0  2021-09-23  \n",
            "1  2022-07-22  \n",
            "2  2022-07-22  \n",
            "3  2021-09-23  \n",
            "4  2021-09-23  \n"
          ]
        }
      ]
    },
    {
      "cell_type": "code",
      "source": [
        "print(len(combined_data))"
      ],
      "metadata": {
        "colab": {
          "base_uri": "https://localhost:8080/"
        },
        "id": "BLJ7VXq1exNi",
        "outputId": "084734a7-2e02-45b2-82fb-0feca70a734b"
      },
      "execution_count": 9,
      "outputs": [
        {
          "output_type": "stream",
          "name": "stdout",
          "text": [
            "12274749\n"
          ]
        }
      ]
    },
    {
      "cell_type": "code",
      "source": [
        "# Adding day type features\n",
        "combined_data['year'] = combined_data['transit_timestamp'].dt.year\n",
        "combined_data['month'] = combined_data['transit_timestamp'].dt.month\n",
        "combined_data['day'] = combined_data['transit_timestamp'].dt.day\n",
        "combined_data['day_of_week'] = combined_data['transit_timestamp'].dt.dayofweek\n",
        "combined_data['day_name'] = combined_data['transit_timestamp'].dt.day_name()\n",
        "combined_data['is_weekend'] = combined_data['day_of_week'].isin([5, 6])\n",
        "\n",
        "print(combined_data[['transit_timestamp', 'year', 'month', 'day', 'day_name', 'is_weekend']].head())"
      ],
      "metadata": {
        "colab": {
          "base_uri": "https://localhost:8080/"
        },
        "id": "-J264CFkf9i_",
        "outputId": "84b84635-4462-4871-f516-edc3aa00fd8a"
      },
      "execution_count": 4,
      "outputs": [
        {
          "output_type": "stream",
          "name": "stdout",
          "text": [
            "    transit_timestamp  year  month  day  day_name  is_weekend\n",
            "0 2021-09-23 03:00:00  2021      9   23  Thursday       False\n",
            "1 2022-07-22 19:00:00  2022      7   22    Friday       False\n",
            "2 2022-07-22 19:00:00  2022      7   22    Friday       False\n",
            "3 2021-09-23 12:00:00  2021      9   23  Thursday       False\n",
            "4 2021-09-23 07:00:00  2021      9   23  Thursday       False\n"
          ]
        }
      ]
    },
    {
      "cell_type": "code",
      "source": [
        "# checking which years of data we have\n",
        "\n",
        "sorted(combined_data['year'].unique())"
      ],
      "metadata": {
        "colab": {
          "base_uri": "https://localhost:8080/"
        },
        "id": "uWMTxRf1gSbG",
        "outputId": "8601fce1-7851-4626-b8db-22c895d16f21"
      },
      "execution_count": 5,
      "outputs": [
        {
          "output_type": "execute_result",
          "data": {
            "text/plain": [
              "[np.int32(2020),\n",
              " np.int32(2021),\n",
              " np.int32(2022),\n",
              " np.int32(2023),\n",
              " np.int32(2024)]"
            ]
          },
          "metadata": {},
          "execution_count": 5
        }
      ]
    },
    {
      "cell_type": "code",
      "execution_count": 6,
      "metadata": {
        "colab": {
          "base_uri": "https://localhost:8080/"
        },
        "id": "tmr20-tWdLo3",
        "outputId": "63ac305e-7470-429d-9280-daa4cfb7dcdc"
      },
      "outputs": [
        {
          "output_type": "stream",
          "name": "stdout",
          "text": [
            "Collecting meteostat\n",
            "  Downloading meteostat-1.6.8-py3-none-any.whl.metadata (4.6 kB)\n",
            "Requirement already satisfied: tqdm in /usr/local/lib/python3.11/dist-packages (4.67.1)\n",
            "Requirement already satisfied: scikit-learn in /usr/local/lib/python3.11/dist-packages (1.6.1)\n",
            "Requirement already satisfied: pandas>=1.1 in /usr/local/lib/python3.11/dist-packages (from meteostat) (2.2.2)\n",
            "Requirement already satisfied: pytz in /usr/local/lib/python3.11/dist-packages (from meteostat) (2025.2)\n",
            "Requirement already satisfied: numpy in /usr/local/lib/python3.11/dist-packages (from meteostat) (2.0.2)\n",
            "Requirement already satisfied: scipy>=1.6.0 in /usr/local/lib/python3.11/dist-packages (from scikit-learn) (1.15.3)\n",
            "Requirement already satisfied: joblib>=1.2.0 in /usr/local/lib/python3.11/dist-packages (from scikit-learn) (1.5.0)\n",
            "Requirement already satisfied: threadpoolctl>=3.1.0 in /usr/local/lib/python3.11/dist-packages (from scikit-learn) (3.6.0)\n",
            "Requirement already satisfied: python-dateutil>=2.8.2 in /usr/local/lib/python3.11/dist-packages (from pandas>=1.1->meteostat) (2.9.0.post0)\n",
            "Requirement already satisfied: tzdata>=2022.7 in /usr/local/lib/python3.11/dist-packages (from pandas>=1.1->meteostat) (2025.2)\n",
            "Requirement already satisfied: six>=1.5 in /usr/local/lib/python3.11/dist-packages (from python-dateutil>=2.8.2->pandas>=1.1->meteostat) (1.17.0)\n",
            "Downloading meteostat-1.6.8-py3-none-any.whl (31 kB)\n",
            "Installing collected packages: meteostat\n",
            "Successfully installed meteostat-1.6.8\n"
          ]
        }
      ],
      "source": [
        "!pip install meteostat tqdm scikit-learn"
      ]
    },
    {
      "cell_type": "code",
      "source": [
        "# Weather imports\n",
        "from meteostat import Daily, Point\n",
        "\n",
        "# Weather data\n",
        "def get_weather_data():\n",
        "    nyc = Point(40.7128, -74.0060)\n",
        "    start = datetime(2020, 1, 1)\n",
        "    end = datetime(2024, 12, 31)\n",
        "    weather = Daily(nyc, start, end).fetch().reset_index()\n",
        "    weather['date'] = weather['time'].dt.date\n",
        "    return weather[['date', 'tmin', 'tmax', 'prcp', 'wspd']]\n",
        "\n",
        "\n",
        "# Merge weather with the existing data\n",
        "weather_data = get_weather_data()\n",
        "combined_with_weather = combined_data.merge(weather_data, on='date', how='left')\n",
        "\n",
        "# Check for missing weather\n",
        "missing_weather = combined_with_weather[['prcp', 'wspd', 'tmin', 'tmax']].isna().sum()\n",
        "print(\"Missing weather data:\\n\", missing_weather)\n",
        "\n",
        "# Preview merged result\n",
        "print(combined_with_weather.head())\n"
      ],
      "metadata": {
        "colab": {
          "base_uri": "https://localhost:8080/"
        },
        "id": "Vy891qGbdmZs",
        "outputId": "fac82196-769b-4fdc-eeab-476763d65380"
      },
      "execution_count": 7,
      "outputs": [
        {
          "output_type": "stream",
          "name": "stderr",
          "text": [
            "FutureWarning: Support for nested sequences for 'parse_dates' in pd.read_csv is deprecated. Combine the desired columns with pd.to_datetime after parsing instead.\n",
            "FutureWarning: Support for nested sequences for 'parse_dates' in pd.read_csv is deprecated. Combine the desired columns with pd.to_datetime after parsing instead.\n",
            "FutureWarning: Support for nested sequences for 'parse_dates' in pd.read_csv is deprecated. Combine the desired columns with pd.to_datetime after parsing instead.\n",
            "FutureWarning: Support for nested sequences for 'parse_dates' in pd.read_csv is deprecated. Combine the desired columns with pd.to_datetime after parsing instead.\n"
          ]
        },
        {
          "output_type": "stream",
          "name": "stdout",
          "text": [
            "Missing weather data:\n",
            " prcp    0\n",
            "wspd    0\n",
            "tmin    0\n",
            "tmax    0\n",
            "dtype: int64\n",
            "    transit_timestamp station_complex_id                   station_complex  \\\n",
            "0 2021-09-23 03:00:00                316                         50 St (1)   \n",
            "1 2022-07-22 19:00:00                323    Christopher St-Sheridan Sq (1)   \n",
            "2 2022-07-22 19:00:00                323    Christopher St-Sheridan Sq (1)   \n",
            "3 2021-09-23 12:00:00                403                         33 St (6)   \n",
            "4 2021-09-23 07:00:00                602  14 St-Union Sq (L,N,Q,R,W,4,5,6)   \n",
            "\n",
            "  payment_method               fare_class_category  ridership  transfers  \\\n",
            "0      metrocard       Metrocard - Unlimited 7-Day        8.0        0.0   \n",
            "1      metrocard             Metrocard - Full Fare      111.0        1.0   \n",
            "2      metrocard                 Metrocard - Other        9.0        0.0   \n",
            "3      metrocard             Metrocard - Full Fare      193.0        8.0   \n",
            "4      metrocard  Metrocard - Seniors & Disability       35.0       10.0   \n",
            "\n",
            "         date  year  month  day  day_of_week  day_name  is_weekend  tmin  \\\n",
            "0  2021-09-23  2021      9   23            3  Thursday       False  20.0   \n",
            "1  2022-07-22  2022      7   22            4    Friday       False  26.1   \n",
            "2  2022-07-22  2022      7   22            4    Friday       False  26.1   \n",
            "3  2021-09-23  2021      9   23            3  Thursday       False  20.0   \n",
            "4  2021-09-23  2021      9   23            3  Thursday       False  20.0   \n",
            "\n",
            "   tmax  prcp  wspd  \n",
            "0  27.2  18.1  15.3  \n",
            "1  34.4   0.0   9.3  \n",
            "2  34.4   0.0   9.3  \n",
            "3  27.2  18.1  15.3  \n",
            "4  27.2  18.1  15.3  \n"
          ]
        }
      ]
    },
    {
      "cell_type": "code",
      "source": [
        "combined_with_weather['timestamp'] = (\n",
        "    combined_with_weather['transit_timestamp']\n",
        "    .dt.tz_localize('America/New_York', ambiguous='NaT')  # handles DST fallback\n",
        "    .dt.floor('h')\n",
        ")"
      ],
      "metadata": {
        "id": "KyqNLl8lTA5r"
      },
      "execution_count": 13,
      "outputs": []
    },
    {
      "cell_type": "code",
      "source": [
        "#grabing NYC events data\n",
        "\n",
        "events_url = \"https://raw.githubusercontent.com/codezilla69/NYC_Subway/main/helper_data/nyc_events_hourly_2020_2025.csv\"\n",
        "events_df = pd.read_csv(events_url, parse_dates=['timestamp'])\n"
      ],
      "metadata": {
        "id": "8cwiXafLVEM6"
      },
      "execution_count": 14,
      "outputs": []
    },
    {
      "cell_type": "code",
      "source": [
        "# Ensure timestamp is datetime and tz-aware in events_df\n",
        "events_df['timestamp'] = pd.to_datetime(events_df['timestamp'], utc=True).dt.tz_convert('America/New_York')"
      ],
      "metadata": {
        "id": "dzbGIgk3bV51"
      },
      "execution_count": 19,
      "outputs": []
    },
    {
      "cell_type": "code",
      "source": [
        "#merged\n",
        "merged_df = combined_with_weather.merge(events_df, how='left', on='timestamp')\n",
        "\n",
        "print(merged_df.head())\n",
        "print(merged_df.columns)\n"
      ],
      "metadata": {
        "colab": {
          "base_uri": "https://localhost:8080/"
        },
        "id": "0LFpYx_rVMiz",
        "outputId": "3e2d7f5a-1b86-41e8-a385-b8111cb9ac27"
      },
      "execution_count": 20,
      "outputs": [
        {
          "output_type": "stream",
          "name": "stdout",
          "text": [
            "    transit_timestamp station_complex_id                   station_complex  \\\n",
            "0 2021-09-23 03:00:00                316                         50 St (1)   \n",
            "1 2022-07-22 19:00:00                323    Christopher St-Sheridan Sq (1)   \n",
            "2 2022-07-22 19:00:00                323    Christopher St-Sheridan Sq (1)   \n",
            "3 2021-09-23 12:00:00                403                         33 St (6)   \n",
            "4 2021-09-23 07:00:00                602  14 St-Union Sq (L,N,Q,R,W,4,5,6)   \n",
            "\n",
            "  payment_method               fare_class_category  ridership  transfers  \\\n",
            "0      metrocard       Metrocard - Unlimited 7-Day        8.0        0.0   \n",
            "1      metrocard             Metrocard - Full Fare      111.0        1.0   \n",
            "2      metrocard                 Metrocard - Other        9.0        0.0   \n",
            "3      metrocard             Metrocard - Full Fare      193.0        8.0   \n",
            "4      metrocard  Metrocard - Seniors & Disability       35.0       10.0   \n",
            "\n",
            "         date  year  month  ...  is_weekend  tmin  tmax  prcp  wspd  \\\n",
            "0  2021-09-23  2021      9  ...       False  20.0  27.2  18.1  15.3   \n",
            "1  2022-07-22  2022      7  ...       False  26.1  34.4   0.0   9.3   \n",
            "2  2022-07-22  2022      7  ...       False  26.1  34.4   0.0   9.3   \n",
            "3  2021-09-23  2021      9  ...       False  20.0  27.2  18.1  15.3   \n",
            "4  2021-09-23  2021      9  ...       False  20.0  27.2  18.1  15.3   \n",
            "\n",
            "                  timestamp  is_holiday  is_home_sporting_event  \\\n",
            "0 2021-09-23 03:00:00-04:00         0.0                     0.0   \n",
            "1 2022-07-22 19:00:00-04:00         0.0                     0.0   \n",
            "2 2022-07-22 19:00:00-04:00         0.0                     0.0   \n",
            "3 2021-09-23 12:00:00-04:00         0.0                     0.0   \n",
            "4 2021-09-23 07:00:00-04:00         0.0                     0.0   \n",
            "\n",
            "  is_away_sporting_event  event_names  \n",
            "0                    0.0          NaN  \n",
            "1                    0.0          NaN  \n",
            "2                    0.0          NaN  \n",
            "3                    0.0          NaN  \n",
            "4                    0.0          NaN  \n",
            "\n",
            "[5 rows x 23 columns]\n",
            "Index(['transit_timestamp', 'station_complex_id', 'station_complex',\n",
            "       'payment_method', 'fare_class_category', 'ridership', 'transfers',\n",
            "       'date', 'year', 'month', 'day', 'day_of_week', 'day_name', 'is_weekend',\n",
            "       'tmin', 'tmax', 'prcp', 'wspd', 'timestamp', 'is_holiday',\n",
            "       'is_home_sporting_event', 'is_away_sporting_event', 'event_names'],\n",
            "      dtype='object')\n"
          ]
        }
      ]
    }
  ]
}