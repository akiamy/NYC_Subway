{
  "nbformat": 4,
  "nbformat_minor": 0,
  "metadata": {
    "colab": {
      "provenance": []
    },
    "kernelspec": {
      "name": "python3",
      "display_name": "Python 3"
    },
    "language_info": {
      "name": "python"
    }
  },
  "cells": [
    {
      "cell_type": "code",
      "source": [
        "!pip install pandas requests beautifulsoup4 holidays python-dateutil\n",
        "import requests"
      ],
      "metadata": {
        "colab": {
          "base_uri": "https://localhost:8080/"
        },
        "id": "cvxglFHnkJIs",
        "outputId": "3ed17746-fbaa-4701-a7ca-ff66af73a32a"
      },
      "execution_count": 1,
      "outputs": [
        {
          "output_type": "stream",
          "name": "stdout",
          "text": [
            "Requirement already satisfied: pandas in /usr/local/lib/python3.11/dist-packages (2.2.2)\n",
            "Requirement already satisfied: requests in /usr/local/lib/python3.11/dist-packages (2.32.3)\n",
            "Requirement already satisfied: beautifulsoup4 in /usr/local/lib/python3.11/dist-packages (4.13.4)\n",
            "Requirement already satisfied: holidays in /usr/local/lib/python3.11/dist-packages (0.72)\n",
            "Requirement already satisfied: python-dateutil in /usr/local/lib/python3.11/dist-packages (2.9.0.post0)\n",
            "Requirement already satisfied: numpy>=1.23.2 in /usr/local/lib/python3.11/dist-packages (from pandas) (2.0.2)\n",
            "Requirement already satisfied: pytz>=2020.1 in /usr/local/lib/python3.11/dist-packages (from pandas) (2025.2)\n",
            "Requirement already satisfied: tzdata>=2022.7 in /usr/local/lib/python3.11/dist-packages (from pandas) (2025.2)\n",
            "Requirement already satisfied: charset-normalizer<4,>=2 in /usr/local/lib/python3.11/dist-packages (from requests) (3.4.2)\n",
            "Requirement already satisfied: idna<4,>=2.5 in /usr/local/lib/python3.11/dist-packages (from requests) (3.10)\n",
            "Requirement already satisfied: urllib3<3,>=1.21.1 in /usr/local/lib/python3.11/dist-packages (from requests) (2.4.0)\n",
            "Requirement already satisfied: certifi>=2017.4.17 in /usr/local/lib/python3.11/dist-packages (from requests) (2025.4.26)\n",
            "Requirement already satisfied: soupsieve>1.2 in /usr/local/lib/python3.11/dist-packages (from beautifulsoup4) (2.7)\n",
            "Requirement already satisfied: typing-extensions>=4.0.0 in /usr/local/lib/python3.11/dist-packages (from beautifulsoup4) (4.13.2)\n",
            "Requirement already satisfied: six>=1.5 in /usr/local/lib/python3.11/dist-packages (from python-dateutil) (1.17.0)\n"
          ]
        }
      ]
    },
    {
      "cell_type": "code",
      "source": [
        "# Get US/NYC Public Holidays\n",
        "\n",
        "import pandas as pd\n",
        "import numpy as np\n",
        "import holidays\n",
        "\n",
        "def get_nyc_holidays(start_year, end_year):\n",
        "    all_holidays = []\n",
        "    for year in range(start_year, end_year + 1):\n",
        "        ny_holidays = holidays.UnitedStates(state='NY', years=year)\n",
        "        for date, name in ny_holidays.items():\n",
        "            all_holidays.append({\n",
        "                'date': pd.to_datetime(date),\n",
        "                'event': name,\n",
        "                'type': 'Holiday'\n",
        "            })\n",
        "    return pd.DataFrame(all_holidays)"
      ],
      "metadata": {
        "id": "RR6PttQ1kUPt"
      },
      "execution_count": 2,
      "outputs": []
    },
    {
      "cell_type": "code",
      "source": [
        "# MLB (Yankees, Mets)\n",
        "\n",
        "def get_mlb_team_schedule(team_id, team_name, start_year, end_year):\n",
        "    all_games = []\n",
        "    for year in range(start_year, end_year + 1):\n",
        "        url = f\"https://statsapi.mlb.com/api/v1/schedule?sportId=1&teamId={team_id}&season={year}&gameType=R\"\n",
        "        try:\n",
        "            response = requests.get(url)\n",
        "            response.raise_for_status()\n",
        "            data = response.json()\n",
        "            for date_info in data.get(\"dates\", []):\n",
        "                for game in date_info.get(\"games\", []):\n",
        "                    date = pd.to_datetime(game['gameDate'])\n",
        "                    is_home = game['teams']['home']['team']['id'] == team_id\n",
        "                    opponent = game['teams']['away']['team']['name'] if is_home else game['teams']['home']['team']['name']\n",
        "                    location = \"Home\" if is_home else \"Away\"\n",
        "                    all_games.append({\n",
        "                        'date': date,\n",
        "                        'event': f\"{team_name} vs {opponent} ({location})\",\n",
        "                        'type': 'Sports',\n",
        "                        'team': team_name,\n",
        "                        'location': location\n",
        "                    })\n",
        "        except Exception as e:\n",
        "            print(f\"Failed to fetch {team_name} schedule for {year}: {e}\")\n",
        "    return pd.DataFrame(all_games)"
      ],
      "metadata": {
        "id": "rtYteKcm-Jcp"
      },
      "execution_count": 3,
      "outputs": []
    },
    {
      "cell_type": "code",
      "source": [
        "# NBA / NHL / NFL via ESPN\n",
        "from bs4 import BeautifulSoup\n",
        "\n",
        "def get_espn_schedule(team_name, abbreviation, league, start_year, end_year):\n",
        "    all_games = []\n",
        "    for year in range(start_year, end_year + 1):\n",
        "        url = f\"https://www.espn.com/{league}/team/schedule/_/name/{abbreviation}/season/{year}\"\n",
        "        try:\n",
        "            r = requests.get(url, headers={\"User-Agent\": \"Mozilla/5.0\"})\n",
        "            soup = BeautifulSoup(r.text, 'html.parser')\n",
        "            table = soup.find('table')\n",
        "            if not table:\n",
        "                continue\n",
        "            rows = table.find_all('tr')[1:]\n",
        "            for row in rows:\n",
        "                cols = row.find_all('td')\n",
        "                if len(cols) < 2:\n",
        "                    continue\n",
        "                date_text = cols[0].text.strip()\n",
        "                opponent = cols[1].text.strip()\n",
        "                try:\n",
        "                    game_date = pd.to_datetime(f\"{date_text} {year}\", errors='coerce')\n",
        "                    if pd.isnull(game_date):\n",
        "                        continue\n",
        "                except:\n",
        "                    continue\n",
        "                location = \"Away\" if \"@\" in opponent else \"Home\"\n",
        "                opponent_clean = opponent.replace(\"@\", \"\").replace(\"vs\", \"\").strip()\n",
        "                all_games.append({\n",
        "                    'date': game_date,\n",
        "                    'event': f\"{team_name} vs {opponent_clean} ({location})\",\n",
        "                    'type': 'Sports',\n",
        "                    'team': team_name,\n",
        "                    'location': location\n",
        "                })\n",
        "        except Exception as e:\n",
        "            print(f\"Failed to fetch {team_name} schedule for {year}: {e}\")\n",
        "    return pd.DataFrame(all_games)\n"
      ],
      "metadata": {
        "id": "oRBw-lCb5ILV"
      },
      "execution_count": 4,
      "outputs": []
    },
    {
      "cell_type": "code",
      "source": [
        "# Fixes issues with date times not being insync\n",
        "\n",
        "def localize_to_nyc(df):\n",
        "    df['date'] = pd.to_datetime(df['date'])\n",
        "    if df['date'].dt.tz is None or df['date'].dt.tz is pd.NaT:\n",
        "        df['date'] = df['date'].dt.tz_localize('America/New_York')\n",
        "    else:\n",
        "        df['date'] = df['date'].dt.tz_convert('America/New_York')\n",
        "    return df"
      ],
      "metadata": {
        "id": "_Mn3V54v_XRF"
      },
      "execution_count": 5,
      "outputs": []
    },
    {
      "cell_type": "code",
      "source": [
        "# Combine All\n",
        "\n",
        "def get_all_event_data(start_year=2020, end_year=2025):\n",
        "    # Holidays\n",
        "    holidays_df = get_nyc_holidays(start_year, end_year)\n",
        "\n",
        "    # MLB Teams (Yankees, Mets)\n",
        "    yankees_df = get_mlb_team_schedule(team_id=147, team_name='Yankees', start_year=start_year, end_year=end_year)\n",
        "    mets_df = get_mlb_team_schedule(team_id=121, team_name='Mets', start_year=start_year, end_year=end_year)\n",
        "\n",
        "    # NBA, NFL, NHL via ESPN (approximate dates only, times not available)\n",
        "    knicks_df = get_espn_schedule('Knicks', 'ny', 'nba', start_year, end_year)\n",
        "    nets_df = get_espn_schedule('Nets', 'bkn', 'nba', start_year, end_year)\n",
        "    giants_df = get_espn_schedule('Giants', 'nyg', 'nfl', start_year, end_year)\n",
        "    jets_df = get_espn_schedule('Jets', 'nyj', 'nfl', start_year, end_year)\n",
        "    rangers_df = get_espn_schedule('Rangers', 'nyr', 'nhl', start_year, end_year)\n",
        "\n",
        "    # Combine\n",
        "    # Standardize to NYC timezone\n",
        "    dfs = [\n",
        "        localize_to_nyc(holidays_df),\n",
        "        localize_to_nyc(yankees_df),\n",
        "        localize_to_nyc(mets_df),\n",
        "        localize_to_nyc(knicks_df),\n",
        "        localize_to_nyc(nets_df),\n",
        "        localize_to_nyc(giants_df),\n",
        "        localize_to_nyc(jets_df),\n",
        "        localize_to_nyc(rangers_df)\n",
        "    ]\n",
        "\n",
        "    combined_df = pd.concat(dfs).sort_values('date').reset_index(drop=True)\n",
        "\n",
        "    return combined_df"
      ],
      "metadata": {
        "id": "-KmA0FIb-eGm"
      },
      "execution_count": 6,
      "outputs": []
    },
    {
      "cell_type": "code",
      "source": [
        "# Run and save\n",
        "events_df = get_all_event_data()\n",
        "print(events_df.head(100))"
      ],
      "metadata": {
        "colab": {
          "base_uri": "https://localhost:8080/"
        },
        "id": "lwyZxX4J-g5i",
        "outputId": "aedc3100-f81b-4faf-b8ae-4a136b8d2a0a"
      },
      "execution_count": 7,
      "outputs": [
        {
          "output_type": "stream",
          "name": "stdout",
          "text": [
            "                        date                                    event  \\\n",
            "0  2020-01-01 00:00:00-05:00                           New Year's Day   \n",
            "1  2020-01-01 00:00:00-05:00                Knicks vs Portland (Home)   \n",
            "2  2020-01-01 00:00:00-05:00             Giants vs Thu, Aug 13 (Home)   \n",
            "3  2020-01-01 00:00:00-05:00               Jets vs Sun, Sep 13 (Home)   \n",
            "4  2020-01-01 00:00:00-05:00             Giants vs Mon, Sep 14 (Home)   \n",
            "..                       ...                                      ...   \n",
            "95 2020-08-05 18:05:00-04:00      Mets vs Washington Nationals (Away)   \n",
            "96 2020-08-05 19:35:00-04:00      Yankees vs Baltimore Orioles (Away)   \n",
            "97 2020-08-06 18:05:00-04:00  Yankees vs Philadelphia Phillies (Away)   \n",
            "98 2020-08-07 18:40:00-04:00         Yankees vs Tampa Bay Rays (Away)   \n",
            "99 2020-08-07 19:10:00-04:00             Mets vs Miami Marlins (Home)   \n",
            "\n",
            "       type     team location  \n",
            "0   Holiday      NaN      NaN  \n",
            "1    Sports   Knicks     Home  \n",
            "2    Sports   Giants     Home  \n",
            "3    Sports     Jets     Home  \n",
            "4    Sports   Giants     Home  \n",
            "..      ...      ...      ...  \n",
            "95   Sports     Mets     Away  \n",
            "96   Sports  Yankees     Away  \n",
            "97   Sports  Yankees     Away  \n",
            "98   Sports  Yankees     Away  \n",
            "99   Sports     Mets     Home  \n",
            "\n",
            "[100 rows x 5 columns]\n"
          ]
        }
      ]
    },
    {
      "cell_type": "code",
      "source": [
        "# Adding day type features\n",
        "events_df['year'] = events_df['date'].dt.year\n",
        "events_df['month'] = events_df['date'].dt.month\n",
        "events_df['day'] = events_df['date'].dt.day\n",
        "events_df['day_of_week'] = events_df['date'].dt.dayofweek\n",
        "events_df['day_name'] = events_df['date'].dt.day_name()\n",
        "events_df['is_weekend'] = events_df['day_of_week'].isin([5, 6])\n",
        "events_df['start_hour'] = events_df['date'].dt.hour\n",
        "\n",
        "print(events_df.head())"
      ],
      "metadata": {
        "colab": {
          "base_uri": "https://localhost:8080/"
        },
        "id": "-J264CFkf9i_",
        "outputId": "18c9b899-ead4-48d0-c1b6-8eeb148d110f"
      },
      "execution_count": 10,
      "outputs": [
        {
          "output_type": "stream",
          "name": "stdout",
          "text": [
            "                       date                         event     type    team  \\\n",
            "0 2020-01-01 00:00:00-05:00                New Year's Day  Holiday     NaN   \n",
            "1 2020-01-01 00:00:00-05:00     Knicks vs Portland (Home)   Sports  Knicks   \n",
            "2 2020-01-01 00:00:00-05:00  Giants vs Thu, Aug 13 (Home)   Sports  Giants   \n",
            "3 2020-01-01 00:00:00-05:00    Jets vs Sun, Sep 13 (Home)   Sports    Jets   \n",
            "4 2020-01-01 00:00:00-05:00  Giants vs Mon, Sep 14 (Home)   Sports  Giants   \n",
            "\n",
            "  location  year  month  day  day_of_week   day_name  is_weekend  start_hour  \n",
            "0      NaN  2020      1    1            2  Wednesday       False           0  \n",
            "1     Home  2020      1    1            2  Wednesday       False           0  \n",
            "2     Home  2020      1    1            2  Wednesday       False           0  \n",
            "3     Home  2020      1    1            2  Wednesday       False           0  \n",
            "4     Home  2020      1    1            2  Wednesday       False           0  \n"
          ]
        }
      ]
    },
    {
      "cell_type": "code",
      "source": [
        "# Clean 'event' column by stripping tabs and excessive spaces\n",
        "\n",
        "# Step 1: Get all events\n",
        "events_df = get_all_event_data()\n",
        "\n",
        "# Step 2: Filter out minor holidays\n",
        "major_holidays = {\n",
        "    \"New Year's Day\",\n",
        "    \"Martin Luther King Jr. Day\",\n",
        "    \"Presidents' Day\",\n",
        "    \"Memorial Day\",\n",
        "    \"Independence Day\",\n",
        "    \"Labor Day\",\n",
        "    \"Columbus Day\",\n",
        "    \"Veterans Day\",\n",
        "    \"Thanksgiving\",\n",
        "    \"Thanksgiving Day\",\n",
        "    \"Christmas Day\",\n",
        "    \"Washington's Birthday\",\n",
        "    \"Juneteenth National Independence Day\"\n",
        "}\n",
        "\n",
        "# Remove holidays not in the major list\n",
        "events_df = events_df[~((events_df['type'] == 'Holiday') & (~events_df['event'].isin(major_holidays)))]\n",
        "\n",
        "# Step 3: Proceed with time-based feature engineering\n",
        "events_df['year'] = events_df['date'].dt.year\n",
        "events_df['month'] = events_df['date'].dt.month\n",
        "events_df['day'] = events_df['date'].dt.day\n",
        "events_df['day_of_week'] = events_df['date'].dt.dayofweek\n",
        "events_df['day_name'] = events_df['date'].dt.day_name()\n",
        "events_df['is_weekend'] = events_df['day_of_week'].isin([5, 6])\n",
        "events_df['start_hour'] = events_df['date'].dt.hour  # Add this too\n",
        "\n",
        "# Step 4: Save or preview\n",
        "print(events_df.head())\n"
      ],
      "metadata": {
        "colab": {
          "base_uri": "https://localhost:8080/"
        },
        "id": "vga3gxgzKZuj",
        "outputId": "dd9415a3-b6ca-4193-92d4-64469843b54f"
      },
      "execution_count": 16,
      "outputs": [
        {
          "output_type": "stream",
          "name": "stdout",
          "text": [
            "                       date                         event     type    team  \\\n",
            "0 2020-01-01 00:00:00-05:00                New Year's Day  Holiday     NaN   \n",
            "1 2020-01-01 00:00:00-05:00     Knicks vs Portland (Home)   Sports  Knicks   \n",
            "2 2020-01-01 00:00:00-05:00  Giants vs Thu, Aug 13 (Home)   Sports  Giants   \n",
            "3 2020-01-01 00:00:00-05:00    Jets vs Sun, Sep 13 (Home)   Sports    Jets   \n",
            "4 2020-01-01 00:00:00-05:00  Giants vs Mon, Sep 14 (Home)   Sports  Giants   \n",
            "\n",
            "  location  year  month  day  day_of_week   day_name  is_weekend  start_hour  \n",
            "0      NaN  2020      1    1            2  Wednesday       False           0  \n",
            "1     Home  2020      1    1            2  Wednesday       False           0  \n",
            "2     Home  2020      1    1            2  Wednesday       False           0  \n",
            "3     Home  2020      1    1            2  Wednesday       False           0  \n",
            "4     Home  2020      1    1            2  Wednesday       False           0  \n"
          ]
        }
      ]
    },
    {
      "cell_type": "code",
      "source": [
        "# Only adjust sports events that have a start hour of 0\n",
        "sports_with_midnight_start = (events_df['type'] == 'Sports') & (events_df['date'].dt.hour == 0)\n",
        "\n",
        "# Add 19 hours (7 PM) to those entries\n",
        "events_df.loc[sports_with_midnight_start, 'date'] = events_df.loc[sports_with_midnight_start, 'date'] + pd.Timedelta(hours=19)\n",
        "\n",
        "# Recalculate start_hour\n",
        "events_df['start_hour'] = events_df['date'].dt.hour\n"
      ],
      "metadata": {
        "id": "SCsFNeyGMqup"
      },
      "execution_count": 18,
      "outputs": []
    },
    {
      "cell_type": "code",
      "source": [
        "from google.colab import drive\n",
        "drive.mount('/content/drive')\n",
        "\n",
        "import os\n",
        "\n",
        "output_folder = \"/content/drive/MyDrive/NYC_Subway_Analysis\"\n",
        "os.makedirs(output_folder, exist_ok=True)\n",
        "\n",
        "events_df.to_csv(f\"{output_folder}/nyc_events_2020_2025.csv\", index=False)\n"
      ],
      "metadata": {
        "colab": {
          "base_uri": "https://localhost:8080/"
        },
        "id": "LtF-eSsvApWe",
        "outputId": "f6a4e9cc-cc09-40bd-ac01-8115563bdcdd"
      },
      "execution_count": 28,
      "outputs": [
        {
          "output_type": "stream",
          "name": "stdout",
          "text": [
            "Drive already mounted at /content/drive; to attempt to forcibly remount, call drive.mount(\"/content/drive\", force_remount=True).\n"
          ]
        }
      ]
    },
    {
      "cell_type": "code",
      "source": [
        "#Prepare events DataFrame for hourly merging\n",
        "\n",
        "def create_hourly_event_flags(events_df, start_year=2020, end_year=2025):\n",
        "    start = pd.Timestamp(f\"{start_year}-01-01 00:00:00\", tz='America/New_York')\n",
        "    end = pd.Timestamp(f\"{end_year}-12-31 23:00:00\", tz='America/New_York')\n",
        "    all_hours = pd.date_range(start=start, end=end, freq='h')\n",
        "\n",
        "    hourly_events = pd.DataFrame(index=all_hours)\n",
        "\n",
        "    hourly_events['is_holiday'] = 0\n",
        "    hourly_events['is_home_sporting_event'] = 0\n",
        "    hourly_events['is_away_sporting_event'] = 0\n",
        "    hourly_events['event_names'] = \"\"\n",
        "\n",
        "    # Flag holidays\n",
        "    holidays = events_df[events_df['type'] == 'Holiday']\n",
        "    for idx, row in holidays.iterrows():\n",
        "        day = row['date'].date()\n",
        "        day_hours = pd.date_range(start=pd.Timestamp(day, tz='America/New_York'),\n",
        "                                  end=pd.Timestamp(day, tz='America/New_York') + pd.Timedelta(hours=23),\n",
        "                                  freq='h')\n",
        "        hourly_events.loc[hourly_events.index.isin(day_hours), 'is_holiday'] = 1\n",
        "        for h in day_hours:\n",
        "            if hourly_events.at[h, 'event_names']:\n",
        "                hourly_events.at[h, 'event_names'] += \"; \" + row['event']\n",
        "            else:\n",
        "                hourly_events.at[h, 'event_names'] = row['event']\n",
        "\n",
        "    # Flag sports events by location (home/away)\n",
        "    sports = events_df[events_df['type'] == 'Sports']\n",
        "    for idx, row in sports.iterrows():\n",
        "        event_start = row['date']\n",
        "        window_hours = pd.date_range(start=event_start - pd.Timedelta(hours=2),\n",
        "                                     end=event_start + pd.Timedelta(hours=3),\n",
        "                                     freq='h')\n",
        "        window_hours = [h for h in window_hours if h in hourly_events.index]\n",
        "\n",
        "        # Use 'location' column\n",
        "        loc = str(row.get('location', '')).lower()\n",
        "        if loc == 'home':\n",
        "            col_flag = 'is_home_sporting_event'\n",
        "        elif loc == 'away':\n",
        "            col_flag = 'is_away_sporting_event'\n",
        "        else:\n",
        "            # If location is missing or unexpected, skip or set neither flag\n",
        "            continue\n",
        "\n",
        "        hourly_events.loc[window_hours, col_flag] = 1\n",
        "\n",
        "        for h in window_hours:\n",
        "            if hourly_events.at[h, 'event_names']:\n",
        "                hourly_events.at[h, 'event_names'] += \"; \" + row['event']\n",
        "            else:\n",
        "                hourly_events.at[h, 'event_names'] = row['event']\n",
        "\n",
        "    return hourly_events.reset_index().rename(columns={'index': 'timestamp'})\n",
        "\n",
        "\n",
        "# Usage:\n",
        "hourly_events_df = create_hourly_event_flags(events_df)\n",
        "print(hourly_events_df.head(30))"
      ],
      "metadata": {
        "colab": {
          "base_uri": "https://localhost:8080/"
        },
        "id": "AGfg5YfrSVPX",
        "outputId": "d8851bc8-0ffa-45a8-9ce0-c4510ba863a5"
      },
      "execution_count": 26,
      "outputs": [
        {
          "output_type": "stream",
          "name": "stdout",
          "text": [
            "                   timestamp  is_holiday  is_home_sporting_event  \\\n",
            "0  2020-01-01 00:00:00-05:00           1                       0   \n",
            "1  2020-01-01 01:00:00-05:00           1                       0   \n",
            "2  2020-01-01 02:00:00-05:00           1                       0   \n",
            "3  2020-01-01 03:00:00-05:00           1                       0   \n",
            "4  2020-01-01 04:00:00-05:00           1                       0   \n",
            "5  2020-01-01 05:00:00-05:00           1                       0   \n",
            "6  2020-01-01 06:00:00-05:00           1                       0   \n",
            "7  2020-01-01 07:00:00-05:00           1                       0   \n",
            "8  2020-01-01 08:00:00-05:00           1                       0   \n",
            "9  2020-01-01 09:00:00-05:00           1                       0   \n",
            "10 2020-01-01 10:00:00-05:00           1                       0   \n",
            "11 2020-01-01 11:00:00-05:00           1                       0   \n",
            "12 2020-01-01 12:00:00-05:00           1                       0   \n",
            "13 2020-01-01 13:00:00-05:00           1                       0   \n",
            "14 2020-01-01 14:00:00-05:00           1                       0   \n",
            "15 2020-01-01 15:00:00-05:00           1                       0   \n",
            "16 2020-01-01 16:00:00-05:00           1                       0   \n",
            "17 2020-01-01 17:00:00-05:00           1                       1   \n",
            "18 2020-01-01 18:00:00-05:00           1                       1   \n",
            "19 2020-01-01 19:00:00-05:00           1                       1   \n",
            "20 2020-01-01 20:00:00-05:00           1                       1   \n",
            "21 2020-01-01 21:00:00-05:00           1                       1   \n",
            "22 2020-01-01 22:00:00-05:00           1                       1   \n",
            "23 2020-01-01 23:00:00-05:00           1                       0   \n",
            "24 2020-01-02 00:00:00-05:00           0                       0   \n",
            "25 2020-01-02 01:00:00-05:00           0                       0   \n",
            "26 2020-01-02 02:00:00-05:00           0                       0   \n",
            "27 2020-01-02 03:00:00-05:00           0                       0   \n",
            "28 2020-01-02 04:00:00-05:00           0                       0   \n",
            "29 2020-01-02 05:00:00-05:00           0                       0   \n",
            "\n",
            "    is_away_sporting_event                                        event_names  \n",
            "0                        0                                     New Year's Day  \n",
            "1                        0                                     New Year's Day  \n",
            "2                        0                                     New Year's Day  \n",
            "3                        0                                     New Year's Day  \n",
            "4                        0                                     New Year's Day  \n",
            "5                        0                                     New Year's Day  \n",
            "6                        0                                     New Year's Day  \n",
            "7                        0                                     New Year's Day  \n",
            "8                        0                                     New Year's Day  \n",
            "9                        0                                     New Year's Day  \n",
            "10                       0                                     New Year's Day  \n",
            "11                       0                                     New Year's Day  \n",
            "12                       0                                     New Year's Day  \n",
            "13                       0                                     New Year's Day  \n",
            "14                       0                                     New Year's Day  \n",
            "15                       0                                     New Year's Day  \n",
            "16                       0                                     New Year's Day  \n",
            "17                       0  New Year's Day; Knicks vs Portland (Home); Gia...  \n",
            "18                       0  New Year's Day; Knicks vs Portland (Home); Gia...  \n",
            "19                       0  New Year's Day; Knicks vs Portland (Home); Gia...  \n",
            "20                       0  New Year's Day; Knicks vs Portland (Home); Gia...  \n",
            "21                       0  New Year's Day; Knicks vs Portland (Home); Gia...  \n",
            "22                       0  New Year's Day; Knicks vs Portland (Home); Gia...  \n",
            "23                       0                                     New Year's Day  \n",
            "24                       0                                                     \n",
            "25                       0                                                     \n",
            "26                       0                                                     \n",
            "27                       0                                                     \n",
            "28                       0                                                     \n",
            "29                       0                                                     \n"
          ]
        }
      ]
    },
    {
      "cell_type": "code",
      "source": [
        "from google.colab import drive\n",
        "drive.mount('/content/drive')\n",
        "\n",
        "import os\n",
        "\n",
        "output_folder = \"/content/drive/MyDrive/NYC_Subway_Analysis\"\n",
        "os.makedirs(output_folder, exist_ok=True)\n",
        "\n",
        "hourly_events_df.to_csv(f\"{output_folder}/nyc_events_hourly_2020_2025.csv\", index=False)\n"
      ],
      "metadata": {
        "colab": {
          "base_uri": "https://localhost:8080/"
        },
        "id": "K_FJpwkBTRPy",
        "outputId": "56d55ed3-8071-4597-a384-39da100b73ca"
      },
      "execution_count": 29,
      "outputs": [
        {
          "output_type": "stream",
          "name": "stdout",
          "text": [
            "Drive already mounted at /content/drive; to attempt to forcibly remount, call drive.mount(\"/content/drive\", force_remount=True).\n"
          ]
        }
      ]
    }
  ]
}